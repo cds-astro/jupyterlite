{
 "cells": [
  {
   "attachments": {},
   "cell_type": "markdown",
   "metadata": {},
   "source": [
    "# Quick illustration of the MOCpy library\n",
    "\n",
    "In this live version of a jupyter notebook in the browser, some libraries have to be installed in a different way. This is the case for `cds-healpix` that allows manipulation of HEALpix cells and for `MOCpy`. MOC is a hierarchical data format composed of HEALpix cells and time cells (and also of frequency cells, see the develop branch! -- as of 2023-07-05 maybe you're from the future and this is already live?)\n",
    "\n",
    "## 1. Setup\n",
    "\n",
    "This two cells can take few tens of seconds to execute, be patient."
   ]
  },
  {
   "cell_type": "code",
   "execution_count": null,
   "metadata": {},
   "outputs": [],
   "source": [
    "import micropip\n",
    "# cdshealpix and mocpy install\n",
    "await micropip.install([\"https://rawcdn.githack.com/cds-astro/jupyterlite/cea7bf366dd077953acc578cbb63f2319793a018/content/pyodide/wheels/cdshealpix-0.6.5-cp311-cp311-emscripten_3_1_46_wasm32.whl\",\n",
    "                        \"https://rawcdn.githack.com/cds-astro/jupyterlite/cea7bf366dd077953acc578cbb63f2319793a018/content/pyodide/wheels/mocpy-0.13.1-cp311-cp311-emscripten_3_1_46_wasm32.whl\"])"
   ]
  },
  {
   "cell_type": "code",
   "execution_count": null,
   "metadata": {},
   "outputs": [],
   "source": [
    "from astropy.coordinates import SkyCoord, Latitude, Longitude\n",
    "import astropy.units as u\n",
    "import numpy as np\n",
    "from mocpy import MOC\n",
    "import matplotlib.pyplot as plt\n",
    "from astropy.wcs.utils import skycoord_to_pixel"
   ]
  },
  {
   "attachments": {},
   "cell_type": "markdown",
   "metadata": {},
   "source": [
    "## 2. Generate a space MOC and random points.\n",
    "\n",
    "Let's create a way to generate random points in a sqare area of the sky."
   ]
  },
  {
   "cell_type": "code",
   "execution_count": null,
   "metadata": {},
   "outputs": [],
   "source": [
    "def generate_rand_points(num_points: int, lon_min=-10, lon_max=10, lat_min=-10, lat_max=10):\n",
    "    \"\"\"Generate a random number of points in a square region of the sky.\n",
    "\n",
    "    Parameters\n",
    "    ----------\n",
    "    num_points : int\n",
    "        The number of points to be generated\n",
    "    lon_min : int, optional\n",
    "        Minimum longitude, by default -10\n",
    "    lon_max : int, optional\n",
    "        Maximum longitude, by default 10\n",
    "    lat_min : int, optional\n",
    "        Minimum lattitude, by default -10\n",
    "    lat_max : int, optional\n",
    "        Maximum lattitude, by default 10\n",
    "\n",
    "    Returns\n",
    "    -------\n",
    "    (astropy.units.quantity.Quantity, astropy.units.quantity.Quantity)\n",
    "        Tuple of longitudes and lattitudes\n",
    "    \"\"\"\n",
    "    lon = (np.random.random(num_points) * (lon_max - lon_min) + lon_min) * u.deg\n",
    "    lat = (np.random.random(num_points) * (lat_max - lat_min) + lat_min) * u.deg\n",
    "    return lon, lat"
   ]
  },
  {
   "attachments": {},
   "cell_type": "markdown",
   "metadata": {},
   "source": [
    "And a spatial MOC from a polygon"
   ]
  },
  {
   "cell_type": "code",
   "execution_count": null,
   "metadata": {},
   "outputs": [],
   "source": [
    "lon = Longitude([5, -5, -5, 5], u.deg)\n",
    "lat = Latitude([5, 5, -5, -5], u.deg)\n",
    "polygon_moc = MOC.from_polygon(lon, lat)\n",
    "polygon_moc.display_preview()"
   ]
  },
  {
   "attachments": {},
   "cell_type": "markdown",
   "metadata": {},
   "source": [
    "You should see a sky projection where the area occupied by our newly created MOC is depicted in red.\n",
    "\n",
    "## 3. We can now test wether each of the points falls in the square sky-region (the MOC)"
   ]
  },
  {
   "cell_type": "code",
   "execution_count": null,
   "metadata": {},
   "outputs": [],
   "source": [
    "# Generate the points\n",
    "lon, lat = generate_rand_points(10000)\n",
    "# Convert to Skycoord object for later use in plot\n",
    "coordinates = SkyCoord(ra=lon, dec=lat, frame='icrs')\n",
    "# Calculation of contains_lonlat to the random points\n",
    "mask = polygon_moc.contains_lonlat(lon, lat)\n",
    "# Green for True, red for False, and apply that to the mask (might not be the most efficient way to do this)\n",
    "colors = {True: 'g', False: 'r'}\n",
    "mask_colors = [colors[bool_contains] for bool_contains in mask]"
   ]
  },
  {
   "attachments": {},
   "cell_type": "markdown",
   "metadata": {},
   "source": [
    "And plot the results of the `contains` function for 10 000 randomly generated points. \n",
    "\n",
    "We'll plot the MOC in transparent blue, the points inside it in green and the points outside in red. "
   ]
  },
  {
   "cell_type": "code",
   "execution_count": null,
   "metadata": {},
   "outputs": [],
   "source": [
    "fig = plt.figure(figsize=(10, 10))\n",
    "wcs = polygon_moc.wcs(fig)\n",
    "x, y = skycoord_to_pixel(coordinates, wcs) # to plot the points on same wcs\n",
    "ax = fig.add_subplot(projection=wcs)\n",
    "ax.grid(True)\n",
    "polygon_moc.fill(ax, wcs, fill=True, color='blue', alpha=0.5)\n",
    "ax.scatter(x, y, c=mask_colors, alpha=0.5)\n",
    "polygon_moc.border(ax, wcs, color='blue')"
   ]
  },
  {
   "attachments": {},
   "cell_type": "markdown",
   "metadata": {},
   "source": [
    "As you can see, it takes more time to plot the result than to do the actual calculation (made in the function `contains_lonlat`)\n",
    "\n",
    "Feel free to edit this file! Do not worry, it will recover its initial state each time this page is refreshed. A good place to move next is the MOCpy library repository [![MOCpy](https://custom-icon-badges.demolab.com/badge/MOCpy-gray.svg?logo=mocpy&logoWidth=20&)](https://github.com/cds-astro/mocpy \"https://github.com/cds-astro/mocpy\")"
   ]
  }
 ],
 "metadata": {
  "kernelspec": {
   "display_name": "mocpy-env",
   "language": "python",
   "name": "python3"
  },
  "language_info": {
   "codemirror_mode": {
    "name": "ipython",
    "version": 3
   },
   "file_extension": ".py",
   "mimetype": "text/x-python",
   "name": "python",
   "nbconvert_exporter": "python",
   "pygments_lexer": "ipython3",
   "version": "3.10.9"
  },
  "orig_nbformat": 4,
  "vscode": {
   "interpreter": {
    "hash": "29442acca8caeaab09d0b3d23abd4c8bb7187a0bbe3941572e26925f12d7b421"
   }
  }
 },
 "nbformat": 4,
 "nbformat_minor": 2
}
