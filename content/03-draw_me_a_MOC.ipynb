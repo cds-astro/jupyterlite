{
 "cells": [
  {
   "attachments": {},
   "cell_type": "markdown",
   "metadata": {},
   "source": [
    "# Draw me a MOC\n",
    "\n",
    "## The imports are a bit different in pyodide"
   ]
  },
  {
   "cell_type": "code",
   "execution_count": null,
   "metadata": {},
   "outputs": [],
   "source": [
    "import micropip\n",
    "from pathlib import Path"
   ]
  },
  {
   "cell_type": "code",
   "execution_count": null,
   "metadata": {},
   "outputs": [],
   "source": [
    "whl_paths = list(Path.cwd().glob(pattern=\"pyodide/wheels/*\"))\n",
    "whl_paths"
   ]
  },
  {
   "cell_type": "code",
   "execution_count": null,
   "metadata": {},
   "outputs": [],
   "source": [
    "await micropip.install(\"emfs:\" + str(path) for path in whl_paths)\n",
    "await micropip.install(\"widgetsnbextension\")"
   ]
  },
  {
   "cell_type": "code",
   "execution_count": null,
   "metadata": {},
   "outputs": [],
   "source": [
    "%pip install ipyaladin"
   ]
  },
  {
   "cell_type": "code",
   "execution_count": null,
   "metadata": {},
   "outputs": [],
   "source": [
    "from ipyaladin import Aladin\n",
    "from ipywidgets import Layout, Box, widgets\n",
    "from astropy.coordinates import SkyCoord\n",
    "from astropy.table import QTable\n",
    "import astropy.units as u\n",
    "from mocpy import MOC"
   ]
  },
  {
   "attachments": {},
   "cell_type": "markdown",
   "metadata": {},
   "source": [
    "## But then you can work like in a \"normal\" python\n",
    "\n",
    "Let's print an Aladin widget"
   ]
  },
  {
   "cell_type": "code",
   "execution_count": null,
   "metadata": {},
   "outputs": [],
   "source": [
    "aladin = Aladin(layout=Layout(width=\"70%\"), target=\"M 36\", fov=0.3)\n",
    "info = widgets.HTML()\n",
    "\n",
    "\n",
    "box_layout = Layout(\n",
    "    display=\"flex\", flex_flow=\"row\", align_items=\"stretch\", width=\"100%\"\n",
    ")\n",
    "box = Box(children=[aladin, info], layout=box_layout)\n",
    "box"
   ]
  },
  {
   "cell_type": "code",
   "execution_count": null,
   "metadata": {},
   "outputs": [],
   "source": [
    "list_ra = []\n",
    "list_dec = []\n",
    "info.value = \"\"\n",
    "i = 0\n",
    "def grab_my_clicks(data):\n",
    "    global list_ra\n",
    "    global list_dec\n",
    "    global info\n",
    "    global i\n",
    "    i += 1\n",
    "    ra = data[\"ra\"]\n",
    "    dec = data[\"dec\"]\n",
    "    list_ra += [ra]\n",
    "    list_dec += [dec]\n",
    "    info.value += \"<br />\" + str((ra, dec))\n",
    "    \n",
    "aladin.add_listener(\"click\", grab_my_clicks)"
   ]
  },
  {
   "cell_type": "markdown",
   "metadata": {},
   "source": [
    "It might look like the last cell did nothng. Que nenni! The Aladin widget is waiting for you to click on the view. This will generate a list of coordinates.\n",
    "\n",
    "That list can for example be used to generate a MOC and print it:"
   ]
  },
  {
   "cell_type": "code",
   "execution_count": null,
   "metadata": {},
   "outputs": [],
   "source": [
    "polygon_coordinates = SkyCoord(list_ra*u.deg, list_dec*u.deg)"
   ]
  },
  {
   "cell_type": "code",
   "execution_count": null,
   "metadata": {},
   "outputs": [],
   "source": [
    "polygon_moc = MOC.from_polygon_skycoord(polygon_coordinates, max_depth=20)"
   ]
  },
  {
   "cell_type": "code",
   "execution_count": null,
   "metadata": {},
   "outputs": [],
   "source": [
    "aladin.add_moc_from_dict(polygon_moc.serialize(\"json\"), {\"color\": \"pink\", \"opacity\": 0.5})"
   ]
  }
 ],
 "metadata": {
  "kernelspec": {
   "display_name": "Python 3 (ipykernel)",
   "language": "python",
   "name": "python3"
  },
  "language_info": {
   "codemirror_mode": {
    "name": "ipython",
    "version": 3
   },
   "file_extension": ".py",
   "mimetype": "text/x-python",
   "name": "python",
   "nbconvert_exporter": "python",
   "pygments_lexer": "ipython3",
   "version": "3.9.15"
  },
  "vscode": {
   "interpreter": {
    "hash": "85bb43f988bdbdc027a50b6d744a62eda8a76617af1f4f9b115d38242716dbac"
   }
  }
 },
 "nbformat": 4,
 "nbformat_minor": 4
}
