{
 "cells": [
  {
   "cell_type": "markdown",
   "metadata": {},
   "source": [
    "# Illustration of the contains function in MOCpy"
   ]
  },
  {
   "cell_type": "markdown",
   "metadata": {},
   "source": [
    "## Install libraries locally because they are not yet on micropip"
   ]
  },
  {
   "cell_type": "code",
   "execution_count": null,
   "metadata": {},
   "outputs": [],
   "source": [
    "import micropip\n",
    "from pathlib import Path"
   ]
  },
  {
   "cell_type": "code",
   "execution_count": null,
   "metadata": {},
   "outputs": [],
   "source": [
    "whl_paths = list(Path.cwd().glob(pattern=\"wheels/*\"))\n",
    "whl_paths"
   ]
  },
  {
   "cell_type": "code",
   "execution_count": null,
   "metadata": {},
   "outputs": [],
   "source": [
    "await micropip.install(\"emfs:\" + str(path) for path in whl_paths)"
   ]
  },
  {
   "cell_type": "code",
   "execution_count": null,
   "metadata": {},
   "outputs": [],
   "source": [
    "from astropy.coordinates import SkyCoord, Latitude, Longitude\n",
    "import astropy.units as u\n",
    "import numpy as np\n",
    "from mocpy import MOC\n",
    "import matplotlib.pyplot as plt\n",
    "from astropy.wcs.utils import skycoord_to_pixel"
   ]
  },
  {
   "cell_type": "code",
   "execution_count": null,
   "metadata": {},
   "outputs": [],
   "source": [
    "def generate_rand_points(num_points: int, lon_min=-10, lon_max=10, lat_min=-10, lat_max=10):\n",
    "    \"\"\"Generate a random number of points in a square region of the sky.\n",
    "\n",
    "    Parameters\n",
    "    ----------\n",
    "    num_points : int\n",
    "        The number of points to be generated\n",
    "    lon_min : int, optional\n",
    "        Minimum longitude, by default -10\n",
    "    lon_max : int, optional\n",
    "        Maximum longitude, by default 10\n",
    "    lat_min : int, optional\n",
    "        Minimum lattitude, by default -10\n",
    "    lat_max : int, optional\n",
    "        Maximum lattitude, by default 10\n",
    "\n",
    "    Returns\n",
    "    -------\n",
    "    (astropy.units.quantity.Quantity, astropy.units.quantity.Quantity)\n",
    "        Tuple of longitudes and lattitudes\n",
    "    \"\"\"\n",
    "    lon = (np.random.random(num_points) * (lon_max - lon_min) + lon_min) * u.deg\n",
    "    lat = (np.random.random(num_points) * (lat_max - lat_min) + lat_min) * u.deg\n",
    "    return lon, lat"
   ]
  },
  {
   "cell_type": "code",
   "execution_count": null,
   "metadata": {},
   "outputs": [],
   "source": [
    "lon = Longitude([5, -5, -5, 5], u.deg)\n",
    "lat = Latitude([5, 5, -5, -5], u.deg)\n",
    "polygon_moc = MOC.from_polygon(lon, lat)"
   ]
  },
  {
   "cell_type": "code",
   "execution_count": null,
   "metadata": {},
   "outputs": [],
   "source": [
    "# Generate the points\n",
    "lon, lat = generate_rand_points(10000)\n",
    "# Convert to Skycoord object for later use in plot\n",
    "coordinates = SkyCoord(ra=lon, dec=lat, frame='icrs')\n",
    "# Calculation of contains_lonlat to the random points\n",
    "mask = polygon_moc.contains_lonlat(lon, lat)\n",
    "# Green for True, red for False, and apply that to the mask (might not be the most efficient way to do this)\n",
    "colors = {True: 'g', False: 'r'}\n",
    "mask_colors = [colors[bool_contains] for bool_contains in mask]"
   ]
  },
  {
   "cell_type": "code",
   "execution_count": null,
   "metadata": {},
   "outputs": [],
   "source": [
    "fig = plt.figure(figsize=(10, 10))\n",
    "wcs = polygon_moc.wcs(fig)\n",
    "x, y = skycoord_to_pixel(coordinates, wcs) # to plot the points on same wcs\n",
    "ax = fig.add_subplot(projection=wcs)\n",
    "ax.grid(True)\n",
    "polygon_moc.fill(ax, wcs, fill=True, color='blue', alpha=0.5)\n",
    "ax.scatter(x, y, c=mask_colors, alpha=0.5)\n",
    "polygon_moc.border(ax, wcs, color='blue')"
   ]
  }
 ],
 "metadata": {
  "kernelspec": {
   "display_name": "Python 3",
   "language": "python",
   "name": "python3"
  },
  "language_info": {
   "codemirror_mode": {
    "name": "ipython",
    "version": 3
   },
   "file_extension": ".py",
   "mimetype": "text/x-python",
   "name": "python",
   "nbconvert_exporter": "python",
   "pygments_lexer": "ipython3",
   "version": "3.8.10"
  },
  "orig_nbformat": 4,
  "vscode": {
   "interpreter": {
    "hash": "916dbcbb3f70747c44a77c7bcd40155683ae19c65e1c03b4aa3499c5328201f1"
   }
  }
 },
 "nbformat": 4,
 "nbformat_minor": 2
}
