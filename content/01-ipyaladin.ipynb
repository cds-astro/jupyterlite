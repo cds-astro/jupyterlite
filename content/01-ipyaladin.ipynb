{
 "cells": [
  {
   "attachments": {},
   "cell_type": "markdown",
   "metadata": {},
   "source": [
    "# Add a VO table to an ipyaladin instance\n",
    "\n",
    "In this notebook, we'll open a VO-table contained in `data/` and add this table to an ipyaladin widget.\n",
    "\n",
    "Let's first install/load the widget and the needed astropy module."
   ]
  },
  {
   "cell_type": "code",
   "execution_count": null,
   "metadata": {},
   "outputs": [],
   "source": [
    "import micropip\n",
    "await micropip.install(\"widgetsnbextension\")\n",
    "%pip install ipyaladin"
   ]
  },
  {
   "cell_type": "code",
   "execution_count": null,
   "metadata": {},
   "outputs": [],
   "source": [
    "from ipyaladin import Aladin\n",
    "from astropy.io.votable import parse_single_table"
   ]
  },
  {
   "attachments": {},
   "cell_type": "markdown",
   "metadata": {},
   "source": [
    "## 1. load the table from a file\n",
    "\n",
    "It's the result of a circle region query of the 2DMASS catalog."
   ]
  },
  {
   "cell_type": "code",
   "execution_count": null,
   "metadata": {},
   "outputs": [],
   "source": [
    "table_2DMass = parse_single_table(\"data/2MASS_PSC.vot\").to_table()\n",
    "table_2DMass"
   ]
  },
  {
   "attachments": {},
   "cell_type": "markdown",
   "metadata": {},
   "source": [
    "## 2. get it into ipyaladin\n",
    "\n",
    "We load the widget around the desired position first. The following cell adds the table to the view."
   ]
  },
  {
   "cell_type": "code",
   "execution_count": null,
   "metadata": {},
   "outputs": [],
   "source": [
    "aladin = Aladin(fov=2, target=\"08:29:58, 1:30:10\")\n",
    "aladin"
   ]
  },
  {
   "cell_type": "code",
   "execution_count": null,
   "metadata": {},
   "outputs": [],
   "source": [
    "aladin.add_table(table_2DMass)"
   ]
  }
 ],
 "metadata": {
  "kernelspec": {
   "display_name": "jupyterlite-cds",
   "language": "python",
   "name": "python3"
  },
  "language_info": {
   "codemirror_mode": {
    "name": "ipython",
    "version": 3
   },
   "file_extension": ".py",
   "mimetype": "text/x-python",
   "name": "python",
   "nbconvert_exporter": "python",
   "pygments_lexer": "ipython3",
   "version": "3.10.9"
  },
  "orig_nbformat": 4,
  "vscode": {
   "interpreter": {
    "hash": "86f746604a95311db3b65fdbe489811da477d28d9b9887fbfebf91cebe84b237"
   }
  }
 },
 "nbformat": 4,
 "nbformat_minor": 2
}
