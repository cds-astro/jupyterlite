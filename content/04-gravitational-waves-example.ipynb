{
 "cells": [
  {
   "attachments": {},
   "cell_type": "markdown",
   "metadata": {},
   "source": [
    "# Gravitational Waves Events with the VO tools"
   ]
  },
  {
   "cell_type": "code",
   "execution_count": null,
   "metadata": {},
   "outputs": [],
   "source": [
    "from js import fetch\n",
    "from io import BytesIO\n",
    "from astropy.io.votable import parse_single_table"
   ]
  },
  {
   "attachments": {},
   "cell_type": "markdown",
   "metadata": {},
   "source": [
    "We first interogate the Simbad database for all the known gravitational waves events. "
   ]
  },
  {
   "cell_type": "code",
   "execution_count": null,
   "metadata": {},
   "outputs": [],
   "source": [
    "simbad_url = \"https://simbad.cds.unistra.fr/simbad/sim-tap/sync?\"\n",
    "\n",
    "TAP_query = \"SELECT * from basic WHERE otype = 'GWE'\"\n",
    "\n",
    "query_url = f\"{simbad_url}request=doQuery&lang=adql&format=votable&query={TAP_query}\""
   ]
  },
  {
   "cell_type": "code",
   "execution_count": null,
   "metadata": {},
   "outputs": [],
   "source": [
    "result_TAP_query = await fetch(query_url)\n",
    "votable_result = await BytesIO(result_TAP_query.text().encode('utf8'))\n",
    "gravitational_waves_table = parse_single_table(votable_result).to_table()\n",
    "gravitational_waves_table"
   ]
  },
  {
   "cell_type": "code",
   "execution_count": null,
   "metadata": {},
   "outputs": [],
   "source": []
  }
 ],
 "metadata": {
  "language_info": {
   "name": "python"
  },
  "orig_nbformat": 4
 },
 "nbformat": 4,
 "nbformat_minor": 2
}
