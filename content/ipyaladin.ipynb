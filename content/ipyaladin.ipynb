{
 "cells": [
  {
   "cell_type": "code",
   "execution_count": 22,
   "metadata": {},
   "outputs": [
    {
     "name": "stdout",
     "output_type": "stream",
     "text": [
      "Requirement already satisfied: ipyaladin in /home/manon.marchand/miniconda3/envs/jupyterlite-cds/lib/python3.10/site-packages (0.2.1)\n",
      "Requirement already satisfied: ipywidgets<9,>=7.6.0 in /home/manon.marchand/miniconda3/envs/jupyterlite-cds/lib/python3.10/site-packages (from ipyaladin) (8.0.4)\n",
      "Requirement already satisfied: ipykernel>=4.5.1 in /home/manon.marchand/miniconda3/envs/jupyterlite-cds/lib/python3.10/site-packages (from ipywidgets<9,>=7.6.0->ipyaladin) (6.21.1)\n",
      "Requirement already satisfied: ipython>=6.1.0 in /home/manon.marchand/miniconda3/envs/jupyterlite-cds/lib/python3.10/site-packages (from ipywidgets<9,>=7.6.0->ipyaladin) (8.10.0)\n",
      "Requirement already satisfied: jupyterlab-widgets~=3.0 in /home/manon.marchand/miniconda3/envs/jupyterlite-cds/lib/python3.10/site-packages (from ipywidgets<9,>=7.6.0->ipyaladin) (3.0.5)\n",
      "Requirement already satisfied: traitlets>=4.3.1 in /home/manon.marchand/miniconda3/envs/jupyterlite-cds/lib/python3.10/site-packages (from ipywidgets<9,>=7.6.0->ipyaladin) (5.9.0)\n",
      "Requirement already satisfied: widgetsnbextension~=4.0 in /home/manon.marchand/miniconda3/envs/jupyterlite-cds/lib/python3.10/site-packages (from ipywidgets<9,>=7.6.0->ipyaladin) (4.0.5)\n",
      "Requirement already satisfied: pyzmq>=17 in /home/manon.marchand/miniconda3/envs/jupyterlite-cds/lib/python3.10/site-packages (from ipykernel>=4.5.1->ipywidgets<9,>=7.6.0->ipyaladin) (25.0.0)\n",
      "Requirement already satisfied: comm>=0.1.1 in /home/manon.marchand/miniconda3/envs/jupyterlite-cds/lib/python3.10/site-packages (from ipykernel>=4.5.1->ipywidgets<9,>=7.6.0->ipyaladin) (0.1.2)\n",
      "Requirement already satisfied: matplotlib-inline>=0.1 in /home/manon.marchand/miniconda3/envs/jupyterlite-cds/lib/python3.10/site-packages (from ipykernel>=4.5.1->ipywidgets<9,>=7.6.0->ipyaladin) (0.1.6)\n",
      "Requirement already satisfied: psutil in /home/manon.marchand/miniconda3/envs/jupyterlite-cds/lib/python3.10/site-packages (from ipykernel>=4.5.1->ipywidgets<9,>=7.6.0->ipyaladin) (5.9.4)\n",
      "Requirement already satisfied: tornado>=6.1 in /home/manon.marchand/miniconda3/envs/jupyterlite-cds/lib/python3.10/site-packages (from ipykernel>=4.5.1->ipywidgets<9,>=7.6.0->ipyaladin) (6.2)\n",
      "Requirement already satisfied: debugpy>=1.6.5 in /home/manon.marchand/miniconda3/envs/jupyterlite-cds/lib/python3.10/site-packages (from ipykernel>=4.5.1->ipywidgets<9,>=7.6.0->ipyaladin) (1.6.6)\n",
      "Requirement already satisfied: nest-asyncio in /home/manon.marchand/miniconda3/envs/jupyterlite-cds/lib/python3.10/site-packages (from ipykernel>=4.5.1->ipywidgets<9,>=7.6.0->ipyaladin) (1.5.6)\n",
      "Requirement already satisfied: jupyter-client>=6.1.12 in /home/manon.marchand/miniconda3/envs/jupyterlite-cds/lib/python3.10/site-packages (from ipykernel>=4.5.1->ipywidgets<9,>=7.6.0->ipyaladin) (8.0.2)\n",
      "Requirement already satisfied: jupyter-core!=5.0.*,>=4.12 in /home/manon.marchand/miniconda3/envs/jupyterlite-cds/lib/python3.10/site-packages (from ipykernel>=4.5.1->ipywidgets<9,>=7.6.0->ipyaladin) (5.2.0)\n",
      "Requirement already satisfied: packaging in /home/manon.marchand/miniconda3/envs/jupyterlite-cds/lib/python3.10/site-packages (from ipykernel>=4.5.1->ipywidgets<9,>=7.6.0->ipyaladin) (23.0)\n",
      "Requirement already satisfied: stack-data in /home/manon.marchand/miniconda3/envs/jupyterlite-cds/lib/python3.10/site-packages (from ipython>=6.1.0->ipywidgets<9,>=7.6.0->ipyaladin) (0.6.2)\n",
      "Requirement already satisfied: pexpect>4.3 in /home/manon.marchand/miniconda3/envs/jupyterlite-cds/lib/python3.10/site-packages (from ipython>=6.1.0->ipywidgets<9,>=7.6.0->ipyaladin) (4.8.0)\n",
      "Requirement already satisfied: jedi>=0.16 in /home/manon.marchand/miniconda3/envs/jupyterlite-cds/lib/python3.10/site-packages (from ipython>=6.1.0->ipywidgets<9,>=7.6.0->ipyaladin) (0.18.2)\n",
      "Requirement already satisfied: prompt-toolkit<3.1.0,>=3.0.30 in /home/manon.marchand/miniconda3/envs/jupyterlite-cds/lib/python3.10/site-packages (from ipython>=6.1.0->ipywidgets<9,>=7.6.0->ipyaladin) (3.0.36)\n",
      "Requirement already satisfied: pygments>=2.4.0 in /home/manon.marchand/miniconda3/envs/jupyterlite-cds/lib/python3.10/site-packages (from ipython>=6.1.0->ipywidgets<9,>=7.6.0->ipyaladin) (2.14.0)\n",
      "Requirement already satisfied: pickleshare in /home/manon.marchand/miniconda3/envs/jupyterlite-cds/lib/python3.10/site-packages (from ipython>=6.1.0->ipywidgets<9,>=7.6.0->ipyaladin) (0.7.5)\n",
      "Requirement already satisfied: backcall in /home/manon.marchand/miniconda3/envs/jupyterlite-cds/lib/python3.10/site-packages (from ipython>=6.1.0->ipywidgets<9,>=7.6.0->ipyaladin) (0.2.0)\n",
      "Requirement already satisfied: decorator in /home/manon.marchand/miniconda3/envs/jupyterlite-cds/lib/python3.10/site-packages (from ipython>=6.1.0->ipywidgets<9,>=7.6.0->ipyaladin) (5.1.1)\n",
      "Requirement already satisfied: parso<0.9.0,>=0.8.0 in /home/manon.marchand/miniconda3/envs/jupyterlite-cds/lib/python3.10/site-packages (from jedi>=0.16->ipython>=6.1.0->ipywidgets<9,>=7.6.0->ipyaladin) (0.8.3)\n",
      "Requirement already satisfied: python-dateutil>=2.8.2 in /home/manon.marchand/miniconda3/envs/jupyterlite-cds/lib/python3.10/site-packages (from jupyter-client>=6.1.12->ipykernel>=4.5.1->ipywidgets<9,>=7.6.0->ipyaladin) (2.8.2)\n",
      "Requirement already satisfied: platformdirs>=2.5 in /home/manon.marchand/miniconda3/envs/jupyterlite-cds/lib/python3.10/site-packages (from jupyter-core!=5.0.*,>=4.12->ipykernel>=4.5.1->ipywidgets<9,>=7.6.0->ipyaladin) (3.0.0)\n",
      "Requirement already satisfied: ptyprocess>=0.5 in /home/manon.marchand/miniconda3/envs/jupyterlite-cds/lib/python3.10/site-packages (from pexpect>4.3->ipython>=6.1.0->ipywidgets<9,>=7.6.0->ipyaladin) (0.7.0)\n",
      "Requirement already satisfied: wcwidth in /home/manon.marchand/miniconda3/envs/jupyterlite-cds/lib/python3.10/site-packages (from prompt-toolkit<3.1.0,>=3.0.30->ipython>=6.1.0->ipywidgets<9,>=7.6.0->ipyaladin) (0.2.6)\n",
      "Requirement already satisfied: pure-eval in /home/manon.marchand/miniconda3/envs/jupyterlite-cds/lib/python3.10/site-packages (from stack-data->ipython>=6.1.0->ipywidgets<9,>=7.6.0->ipyaladin) (0.2.2)\n",
      "Requirement already satisfied: executing>=1.2.0 in /home/manon.marchand/miniconda3/envs/jupyterlite-cds/lib/python3.10/site-packages (from stack-data->ipython>=6.1.0->ipywidgets<9,>=7.6.0->ipyaladin) (1.2.0)\n",
      "Requirement already satisfied: asttokens>=2.1.0 in /home/manon.marchand/miniconda3/envs/jupyterlite-cds/lib/python3.10/site-packages (from stack-data->ipython>=6.1.0->ipywidgets<9,>=7.6.0->ipyaladin) (2.2.1)\n",
      "Requirement already satisfied: six in /home/manon.marchand/miniconda3/envs/jupyterlite-cds/lib/python3.10/site-packages (from asttokens>=2.1.0->stack-data->ipython>=6.1.0->ipywidgets<9,>=7.6.0->ipyaladin) (1.16.0)\n",
      "Note: you may need to restart the kernel to use updated packages.\n"
     ]
    }
   ],
   "source": [
    "%pip install ipyaladin"
   ]
  },
  {
   "cell_type": "code",
   "execution_count": 23,
   "metadata": {},
   "outputs": [],
   "source": [
    "from ipyaladin import Aladin\n",
    "from astropy.io.votable import parse_single_table"
   ]
  },
  {
   "cell_type": "code",
   "execution_count": 24,
   "metadata": {},
   "outputs": [],
   "source": [
    "table_2DMass = parse_single_table(\"data/2MASS_PSC.vot\").to_table()"
   ]
  },
  {
   "cell_type": "code",
   "execution_count": 25,
   "metadata": {},
   "outputs": [
    {
     "data": {
      "application/vnd.jupyter.widget-view+json": {
       "model_id": "c24ec7a680da45a2a196d5d3a84cfae2",
       "version_major": 2,
       "version_minor": 0
      },
      "text/plain": [
       "Aladin(fov=2.0, options=['allow_full_zoomout', 'coo_frame', 'fov', 'full_screen', 'log', 'overlay_survey', 'ov…"
      ]
     },
     "execution_count": 25,
     "metadata": {},
     "output_type": "execute_result"
    }
   ],
   "source": [
    "aladin = Aladin(fov=2, target=\"08:29:58, 1:30:10\")\n",
    "aladin"
   ]
  },
  {
   "cell_type": "code",
   "execution_count": 27,
   "metadata": {},
   "outputs": [],
   "source": [
    "aladin.add_table(table_2DMass)"
   ]
  }
 ],
 "metadata": {
  "kernelspec": {
   "display_name": "jupyterlite-cds",
   "language": "python",
   "name": "python3"
  },
  "language_info": {
   "codemirror_mode": {
    "name": "ipython",
    "version": 3
   },
   "file_extension": ".py",
   "mimetype": "text/x-python",
   "name": "python",
   "nbconvert_exporter": "python",
   "pygments_lexer": "ipython3",
   "version": "3.10.9"
  },
  "orig_nbformat": 4,
  "vscode": {
   "interpreter": {
    "hash": "86f746604a95311db3b65fdbe489811da477d28d9b9887fbfebf91cebe84b237"
   }
  }
 },
 "nbformat": 4,
 "nbformat_minor": 2
}
