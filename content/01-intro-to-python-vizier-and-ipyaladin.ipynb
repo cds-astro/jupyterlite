{
 "cells": [
  {
   "cell_type": "markdown",
   "metadata": {},
   "source": [
    "The first cells here are required to make the notebooks work without any installation in a browser. A normal notebook running on your personal machine would start later."
   ]
  },
  {
   "cell_type": "code",
   "execution_count": null,
   "metadata": {},
   "outputs": [],
   "source": [
    "%pip install ipyaladin\n",
    "%pip install sidecar"
   ]
  },
  {
   "cell_type": "code",
   "execution_count": null,
   "metadata": {},
   "outputs": [],
   "source": [
    "import micropip, http.client, pyodide_http\n",
    "await micropip.install([\"ssl\",\"https://files.pythonhosted.org/packages/c3/c8/d74794dff5c6802994d3dfe506d691d9e0ff3e6b2f34df577899685b2617/astroquery-0.4.7.dev9008-py3-none-any.whl\",\n",
    "                        \"https://rawcdn.githack.com/cds-astro/jupyterlite/cea7bf366dd077953acc578cbb63f2319793a018/content/pyodide/wheels/cdshealpix-0.6.5-cp311-cp311-emscripten_3_1_46_wasm32.whl\",\n",
    "                        \"https://rawcdn.githack.com/cds-astro/jupyterlite/cea7bf366dd077953acc578cbb63f2319793a018/content/pyodide/wheels/mocpy-0.13.1-cp311-cp311-emscripten_3_1_46_wasm32.whl\"])\n",
    "pyodide_http.patch_all()\n",
    "from importlib import reload\n",
    "reload(http.client);"
   ]
  },
  {
   "cell_type": "markdown",
   "metadata": {},
   "source": [
    "Here is the true beginning of the story.\n",
    "\n",
    "# Introduction to ipyaladin\n",
    "(and VizieR and MOCs)"
   ]
  },
  {
   "cell_type": "code",
   "execution_count": null,
   "metadata": {},
   "outputs": [],
   "source": [
    "from ipyaladin import Aladin\n",
    "from sidecar import Sidecar\n",
    "from astroquery.vizier import Vizier\n",
    "import astropy.units as u\n",
    "from mocpy import MOC"
   ]
  },
  {
   "cell_type": "code",
   "execution_count": null,
   "metadata": {},
   "outputs": [],
   "source": [
    "sidecar = Sidecar(title='aladin')\n",
    "aladin = Aladin(fov=200,\n",
    "                target='galactic center',\n",
    "                coo_frame=\"J2000d\",\n",
    "                show_fullscreen_control=True,\n",
    "                height=1000)\n",
    "with sidecar:\n",
    "    display(aladin)"
   ]
  },
  {
   "cell_type": "code",
   "execution_count": null,
   "metadata": {},
   "outputs": [],
   "source": [
    "aladin.target = \"M51\""
   ]
  },
  {
   "attachments": {},
   "cell_type": "markdown",
   "metadata": {},
   "source": [
    "## 1. Let's find the catalog identifier of the Dark Energy Survey in Vizier"
   ]
  },
  {
   "cell_type": "code",
   "execution_count": null,
   "metadata": {},
   "outputs": [],
   "source": [
    "list_catalogs = Vizier.find_catalogs([\"Dark Energy Survey\", \"Data Release 2\"])\n",
    "[print(catalog, description.description) for catalog, description in list_catalogs.items()];"
   ]
  },
  {
   "cell_type": "markdown",
   "metadata": {},
   "source": [
    "The identifier is `II/371`"
   ]
  },
  {
   "cell_type": "code",
   "execution_count": null,
   "metadata": {},
   "outputs": [],
   "source": [
    "catalog = \"II/371\""
   ]
  },
  {
   "cell_type": "markdown",
   "metadata": {},
   "source": [
    "## 2. A glimpse at its coverage"
   ]
  },
  {
   "cell_type": "code",
   "execution_count": null,
   "metadata": {},
   "outputs": [],
   "source": [
    "catalog_coverage = MOC.from_fits(f\"https://cdsarc.cds.unistra.fr/viz-bin/moc/{catalog}\")"
   ]
  },
  {
   "cell_type": "code",
   "execution_count": null,
   "metadata": {},
   "outputs": [],
   "source": [
    "aladin.add_moc_from_dict(catalog_coverage.serialize(\"json\"),\n",
    "                         {\"color\": \"lightblue\",\n",
    "                          \"fill\": True,\n",
    "                          \"edge\": True,\n",
    "                          \"opacity\": 0.2\n",
    "                         })"
   ]
  },
  {
   "attachments": {},
   "cell_type": "markdown",
   "metadata": {},
   "source": [
    "## 3. Grab sources in a cone"
   ]
  },
  {
   "cell_type": "code",
   "execution_count": null,
   "metadata": {},
   "outputs": [],
   "source": [
    "cone = Vizier(catalog=catalog,\n",
    "              row_limit=-1,\n",
    "              columns=[\"RA_ICRS\", \"DE_ICRS\", \"gmag\", \"rmag\", \"imag\", \"DES\"]\n",
    "             ).query_region(\"15.3856880 -54.4340745\", radius=1 * u.arcmin, frame=\"icrs\")"
   ]
  },
  {
   "cell_type": "code",
   "execution_count": null,
   "metadata": {},
   "outputs": [],
   "source": [
    "cone"
   ]
  },
  {
   "cell_type": "code",
   "execution_count": null,
   "metadata": {},
   "outputs": [],
   "source": [
    "cone[0]"
   ]
  },
  {
   "cell_type": "code",
   "execution_count": null,
   "metadata": {},
   "outputs": [],
   "source": [
    "aladin.add_table(cone[0])"
   ]
  },
  {
   "cell_type": "code",
   "execution_count": null,
   "metadata": {},
   "outputs": [],
   "source": [
    "aladin.target = \"15.3856880 -54.4340745\""
   ]
  }
 ],
 "metadata": {
  "kernelspec": {
   "display_name": "jupyterlite-cds",
   "language": "python",
   "name": "python3"
  },
  "language_info": {
   "codemirror_mode": {
    "name": "ipython",
    "version": 3
   },
   "file_extension": ".py",
   "mimetype": "text/x-python",
   "name": "python",
   "nbconvert_exporter": "python",
   "pygments_lexer": "ipython3",
   "version": "3.10.11"
  },
  "orig_nbformat": 4,
  "vscode": {
   "interpreter": {
    "hash": "86f746604a95311db3b65fdbe489811da477d28d9b9887fbfebf91cebe84b237"
   }
  }
 },
 "nbformat": 4,
 "nbformat_minor": 2
}
