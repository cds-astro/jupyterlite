{
 "cells": [
  {
   "attachments": {},
   "cell_type": "markdown",
   "metadata": {},
   "source": [
    "# Add a VO table downloaded from Vizier to an ipyaladin instance"
   ]
  },
  {
   "cell_type": "code",
   "execution_count": null,
   "metadata": {},
   "outputs": [],
   "source": [
    "%pip install ipyaladin"
   ]
  },
  {
   "cell_type": "code",
   "execution_count": null,
   "metadata": {},
   "outputs": [],
   "source": [
    "import pickle\n",
    "import Path\n",
    "\n",
    "import astropy.units as u\n",
    "\n",
    "from ipyaladin import Aladin\n",
    "from astroquery import Vizier\n",
    "from astropy.io.votable import parse_single_table"
   ]
  },
  {
   "attachments": {},
   "cell_type": "markdown",
   "metadata": {},
   "source": [
    "## 1. Let's find the catalog identifier of 2Mass in Vizier\n",
    "\n",
    "To do so, first thing is to inspect the astroquery.vizier python module"
   ]
  },
  {
   "cell_type": "code",
   "execution_count": null,
   "metadata": {},
   "outputs": [],
   "source": [
    "dir(Vizier)"
   ]
  },
  {
   "cell_type": "code",
   "execution_count": null,
   "metadata": {},
   "outputs": [],
   "source": [
    "help(Vizier.find_catalogs)"
   ]
  },
  {
   "cell_type": "code",
   "execution_count": null,
   "metadata": {},
   "outputs": [],
   "source": [
    "# list_catalogs = Vizier.find_catalogs([\"2Mass\", \"All-Sky\"])\n",
    "with Path.open(\"data/list_catalogs.pkl\", \"rb\") as file:\n",
    "    list_catalogs = pickle.load(file)\n",
    "for name, item in list_catalogs.items():\n",
    "    print(name, \": \", item.description)"
   ]
  },
  {
   "attachments": {},
   "cell_type": "markdown",
   "metadata": {},
   "source": [
    "The identifier is `II/246`. \n",
    "\n",
    "## 2. Let's query in a cone around a point in the sky\n",
    "\n",
    "We'll look at how to do that with the Vizier class in astroquery. This method of using the python built-in help works for any modules! ;)"
   ]
  },
  {
   "cell_type": "code",
   "execution_count": null,
   "metadata": {},
   "outputs": [],
   "source": [
    "help(Vizier)"
   ]
  },
  {
   "cell_type": "code",
   "execution_count": null,
   "metadata": {},
   "outputs": [],
   "source": [
    "# here, let's take all columns and remove the upper limit on the number of rows\n",
    "# we comment the line about how to do the query in real python\n",
    "# table_2Mass = Vizier(columns=[\"**\"], row_limit=-1).query_region(\"08:29:58, 1:30:10\", 10 * u.arcmin, catalog=\"II/246\")\n",
    "# and get it from the file system\n",
    "table_2Mass = parse_single_table(\"data/2MASS_PSC.vot\").to_table()\n",
    "table_2Mass"
   ]
  },
  {
   "attachments": {},
   "cell_type": "markdown",
   "metadata": {},
   "source": [
    "## 3. get it into ipyaladin\n",
    "\n",
    "We load the widget around the desired position first. The following cell adds the table to the view."
   ]
  },
  {
   "cell_type": "code",
   "execution_count": null,
   "metadata": {},
   "outputs": [],
   "source": [
    "aladin = Aladin(fov=2, target=\"08:29:58, 1:30:10\")\n",
    "aladin"
   ]
  },
  {
   "cell_type": "code",
   "execution_count": null,
   "metadata": {},
   "outputs": [],
   "source": [
    "aladin.add_table(table_2DMass)"
   ]
  },
  {
   "cell_type": "code",
   "execution_count": null,
   "metadata": {},
   "outputs": [],
   "source": [
    "aladin.height=800"
   ]
  }
 ],
 "metadata": {
  "kernelspec": {
   "display_name": "jupyterlite-cds",
   "language": "python",
   "name": "python3"
  },
  "language_info": {
   "codemirror_mode": {
    "name": "ipython",
    "version": 3
   },
   "file_extension": ".py",
   "mimetype": "text/x-python",
   "name": "python",
   "nbconvert_exporter": "python",
   "pygments_lexer": "ipython3",
   "version": "3.10.9"
  },
  "orig_nbformat": 4,
  "vscode": {
   "interpreter": {
    "hash": "86f746604a95311db3b65fdbe489811da477d28d9b9887fbfebf91cebe84b237"
   }
  }
 },
 "nbformat": 4,
 "nbformat_minor": 2
}
