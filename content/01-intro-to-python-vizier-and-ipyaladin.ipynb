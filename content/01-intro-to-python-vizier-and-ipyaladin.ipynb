{
 "cells": [
  {
   "attachments": {},
   "cell_type": "markdown",
   "metadata": {},
   "source": [
    "# Introduction to ipyaladin"
   ]
  },
  {
   "cell_type": "code",
   "execution_count": null,
   "metadata": {},
   "outputs": [],
   "source": [
    "%pip install ipyaladin"
   ]
  },
  {
   "cell_type": "code",
   "execution_count": null,
   "metadata": {},
   "outputs": [],
   "source": [
    "import micropip, http.client, pyodide_http\n",
    "await micropip.install([\"ssl\",\"https://files.pythonhosted.org/packages/c3/c8/d74794dff5c6802994d3dfe506d691d9e0ff3e6b2f34df577899685b2617/astroquery-0.4.7.dev9008-py3-none-any.whl\"])\n",
    "pyodide_http.patch_all()\n",
    "from importlib import reload\n",
    "reload(http.client)"
   ]
  },
  {
   "cell_type": "code",
   "execution_count": null,
   "metadata": {},
   "outputs": [],
   "source": [
    "from ipyaladin import Aladin\n",
    "from astroquery.vizier import Vizier"
   ]
  },
  {
   "attachments": {},
   "cell_type": "markdown",
   "metadata": {},
   "source": [
    "## 1. Let's find the catalog identifier of DESI legacy survey in Vizier"
   ]
  },
  {
   "cell_type": "code",
   "execution_count": null,
   "metadata": {},
   "outputs": [],
   "source": [
    "list_catalogs = Vizier.find_catalogs([\"DESI\", \"legacy\"])"
   ]
  },
  {
   "attachments": {},
   "cell_type": "markdown",
   "metadata": {},
   "source": [
    "The identifier is `II/246`. \n",
    "\n",
    "## 2. Let's query in a cone around a point in the sky\n",
    "\n",
    "We'll look at how to do that with the Vizier class in astroquery. This method of using the python built-in help works for any modules! ;)"
   ]
  },
  {
   "cell_type": "code",
   "execution_count": null,
   "metadata": {},
   "outputs": [],
   "source": [
    "help(Vizier)"
   ]
  },
  {
   "cell_type": "code",
   "execution_count": null,
   "metadata": {},
   "outputs": [],
   "source": [
    "# here, let's take all columns and remove the upper limit on the number of rows\n",
    "# we comment the line about how to do the query in real python\n",
    "# table_2Mass = Vizier(columns=[\"**\"], row_limit=-1).query_region(\"08:29:58, 1:30:10\", 10 * u.arcmin, catalog=\"II/246\")\n",
    "# and get it from the file system\n",
    "table_2Mass = parse_single_table(\"data/2MASS_PSC.vot\").to_table()\n",
    "table_2Mass"
   ]
  },
  {
   "attachments": {},
   "cell_type": "markdown",
   "metadata": {},
   "source": [
    "## 3. get it into ipyaladin\n",
    "\n",
    "We load the widget around the desired position first. The following cell adds the table to the view."
   ]
  },
  {
   "cell_type": "code",
   "execution_count": null,
   "metadata": {},
   "outputs": [],
   "source": [
    "aladin = Aladin(fov=2, target=\"08:29:58, 1:30:10\")\n",
    "aladin"
   ]
  },
  {
   "cell_type": "code",
   "execution_count": null,
   "metadata": {},
   "outputs": [],
   "source": [
    "aladin.add_table(table_2Mass)"
   ]
  },
  {
   "cell_type": "code",
   "execution_count": null,
   "metadata": {},
   "outputs": [],
   "source": [
    "aladin.height=800"
   ]
  }
 ],
 "metadata": {
  "kernelspec": {
   "display_name": "jupyterlite-cds",
   "language": "python",
   "name": "python3"
  },
  "language_info": {
   "codemirror_mode": {
    "name": "ipython",
    "version": 3
   },
   "file_extension": ".py",
   "mimetype": "text/x-python",
   "name": "python",
   "nbconvert_exporter": "python",
   "pygments_lexer": "ipython3",
   "version": "3.10.9"
  },
  "orig_nbformat": 4,
  "vscode": {
   "interpreter": {
    "hash": "86f746604a95311db3b65fdbe489811da477d28d9b9887fbfebf91cebe84b237"
   }
  }
 },
 "nbformat": 4,
 "nbformat_minor": 2
}
