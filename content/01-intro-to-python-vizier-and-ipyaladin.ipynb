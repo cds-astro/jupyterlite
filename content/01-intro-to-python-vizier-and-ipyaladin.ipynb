{
 "cells": [
  {
   "attachments": {},
   "cell_type": "markdown",
   "metadata": {},
   "source": [
    "# Introduction to ipyaladin"
   ]
  },
  {
   "cell_type": "code",
   "execution_count": null,
   "metadata": {},
   "outputs": [],
   "source": [
    "%pip install ipyaladin\n",
    "%pip install sidecar"
   ]
  },
  {
   "cell_type": "code",
   "execution_count": null,
   "metadata": {},
   "outputs": [],
   "source": [
    "import micropip, http.client, pyodide_http\n",
    "await micropip.install([\"ssl\",\"https://files.pythonhosted.org/packages/c3/c8/d74794dff5c6802994d3dfe506d691d9e0ff3e6b2f34df577899685b2617/astroquery-0.4.7.dev9008-py3-none-any.whl\"])\n",
    "pyodide_http.patch_all()\n",
    "from importlib import reload\n",
    "reload(http.client)"
   ]
  },
  {
   "cell_type": "code",
   "execution_count": null,
   "metadata": {},
   "outputs": [],
   "source": [
    "from ipyaladin import Aladin\n",
    "from sidecar import Sidecar\n",
    "from astroquery.vizier import Vizier"
   ]
  },
  {
   "cell_type": "code",
   "execution_count": null,
   "metadata": {},
   "outputs": [],
   "source": [
    "sidecar = Sidecar(title='aladin')\n",
    "aladin = Aladin()\n",
    "with sidecar:\n",
    "    display(aladin)"
   ]
  },
  {
   "attachments": {},
   "cell_type": "markdown",
   "metadata": {},
   "source": [
    "## 1. Let's find the catalog identifier of DESI legacy survey in Vizier"
   ]
  },
  {
   "cell_type": "code",
   "execution_count": null,
   "metadata": {},
   "outputs": [],
   "source": [
    "list_catalogs = Vizier.find_catalogs([\"DESI\", \"legacy\"])\n",
    "[print(catalog, description.description) for catalog, description in list_catalogs.items()];"
   ]
  },
  {
   "cell_type": "markdown",
   "metadata": {},
   "source": [
    "The identifier is `VII/192`"
   ]
  },
  {
   "cell_type": "code",
   "execution_count": null,
   "metadata": {},
   "outputs": [],
   "source": [
    "catalog = \"VII/292\""
   ]
  },
  {
   "cell_type": "markdown",
   "metadata": {},
   "source": [
    "## 2. A glimpse at its coverage"
   ]
  },
  {
   "cell_type": "code",
   "execution_count": null,
   "metadata": {},
   "outputs": [],
   "source": [
    "catalogue_coverage = MOC.from_fits(\n",
    "    f\"https://cdsarc.cds.unistra.fr/viz-bin/moc/{CATALOGUE}\",\n",
    ")\n",
    "catalogue_coverage"
   ]
  },
  {
   "attachments": {},
   "cell_type": "markdown",
   "metadata": {},
   "source": [
    "The identifier is `VII/192`. \n",
    "\n",
    "## 2. Let's query for sources from DESI in a cone around a point in the sky\n",
    "\n",
    "We'll look at how to do that with the Vizier class in astroquery."
   ]
  },
  {
   "cell_type": "code",
   "execution_count": null,
   "metadata": {},
   "outputs": [],
   "source": []
  },
  {
   "cell_type": "code",
   "execution_count": null,
   "metadata": {},
   "outputs": [],
   "source": [
    "# here, let's take all columns and remove the upper limit on the number of rows\n",
    "# we comment the line about how to do the query in real python\n",
    "# table_2Mass = Vizier(columns=[\"**\"], row_limit=-1).query_region(\"08:29:58, 1:30:10\", 10 * u.arcmin, catalog=\"II/246\")\n",
    "# and get it from the file system\n",
    "table_2Mass = parse_single_table(\"data/2MASS_PSC.vot\").to_table()\n",
    "table_2Mass"
   ]
  },
  {
   "attachments": {},
   "cell_type": "markdown",
   "metadata": {},
   "source": [
    "## 3. get it into ipyaladin\n",
    "\n",
    "We load the widget around the desired position first. The following cell adds the table to the view."
   ]
  },
  {
   "cell_type": "code",
   "execution_count": null,
   "metadata": {},
   "outputs": [],
   "source": [
    "aladin = Aladin(fov=2, target=\"08:29:58, 1:30:10\")\n",
    "aladin"
   ]
  },
  {
   "cell_type": "code",
   "execution_count": null,
   "metadata": {},
   "outputs": [],
   "source": [
    "aladin.add_table(table_2Mass)"
   ]
  },
  {
   "cell_type": "code",
   "execution_count": null,
   "metadata": {},
   "outputs": [],
   "source": [
    "aladin.height=800"
   ]
  }
 ],
 "metadata": {
  "kernelspec": {
   "display_name": "jupyterlite-cds",
   "language": "python",
   "name": "python3"
  },
  "language_info": {
   "codemirror_mode": {
    "name": "ipython",
    "version": 3
   },
   "file_extension": ".py",
   "mimetype": "text/x-python",
   "name": "python",
   "nbconvert_exporter": "python",
   "pygments_lexer": "ipython3",
   "version": "3.10.9"
  },
  "orig_nbformat": 4,
  "vscode": {
   "interpreter": {
    "hash": "86f746604a95311db3b65fdbe489811da477d28d9b9887fbfebf91cebe84b237"
   }
  }
 },
 "nbformat": 4,
 "nbformat_minor": 2
}
